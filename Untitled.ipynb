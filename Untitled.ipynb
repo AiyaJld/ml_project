{
 "cells": [
  {
   "cell_type": "code",
   "execution_count": 2,
   "id": "43335b8a-57c9-4792-b551-929a37ec90da",
   "metadata": {},
   "outputs": [],
   "source": [
    "import pandas as pd\n",
    "import os \n",
    "\n",
    "path = 'archive-2/Data/all_years'\n",
    "csv = [f for f in os.listdir(path) if f.endswith('.csv')]\n",
    "\n",
    "all_years = pd.concat(\n",
    "    [pd.read_csv(os.path.join(path, file)) for file in csv],\n",
    "    ignore_index=True\n",
    ")\n",
    "\n",
    "     "
   ]
  },
  {
   "cell_type": "code",
   "execution_count": 3,
   "id": "0fd77641-bd9e-4e35-a4c1-653b20614407",
   "metadata": {},
   "outputs": [],
   "source": [
    "all_years.to_csv('filtered_data.csv', index=False)\n"
   ]
  },
  {
   "cell_type": "code",
   "execution_count": null,
   "id": "f292d8c0-b7b7-480a-b96a-ba2efd3bd408",
   "metadata": {},
   "outputs": [],
   "source": []
  }
 ],
 "metadata": {
  "kernelspec": {
   "display_name": "Python 3 (ipykernel)",
   "language": "python",
   "name": "python3"
  },
  "language_info": {
   "codemirror_mode": {
    "name": "ipython",
    "version": 3
   },
   "file_extension": ".py",
   "mimetype": "text/x-python",
   "name": "python",
   "nbconvert_exporter": "python",
   "pygments_lexer": "ipython3",
   "version": "3.9.13"
  }
 },
 "nbformat": 4,
 "nbformat_minor": 5
}
