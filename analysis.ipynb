{
 "cells": [
  {
   "cell_type": "code",
   "execution_count": 252,
   "id": "9c88b5be-d944-4997-8663-606484631f3b",
   "metadata": {},
   "outputs": [],
   "source": [
    "\n",
    "import numpy as np\n",
    "import matplotlib.pyplot as plt\n",
    "import pandas as pd\n",
    "import re\n",
    "from collections import Counter\n",
    "import ast\n",
    "from collections import Counter\n",
    "from sklearn.preprocessing import OneHotEncoder"
   ]
  },
  {
   "cell_type": "code",
   "execution_count": 253,
   "id": "33b4fe26-c1f7-408f-8fbf-fce722c93943",
   "metadata": {},
   "outputs": [],
   "source": [
    "path = \"archive-2/Data/all_years\"\n",
    "datasets = []"
   ]
  },
  {
   "cell_type": "code",
   "execution_count": 254,
   "id": "393ce9f4-d08e-49bf-abf2-971395bfe066",
   "metadata": {},
   "outputs": [],
   "source": [
    "for i in range(2000, 2026):\n",
    "    file = f'{path}/merged_movies_data_{i}.csv'\n",
    "    data = pd.read_csv(file)\n",
    "    datasets.append(data)\n",
    "dataset = pd.concat(datasets, ignore_index=True)\n"
   ]
  },
  {
   "cell_type": "code",
   "execution_count": 255,
   "id": "2cdd7c95-2357-4bd8-89af-15d9db005aba",
   "metadata": {},
   "outputs": [],
   "source": [
    "\n",
    "dataset.to_csv('combined_dataset.csv', index=False)"
   ]
  },
  {
   "cell_type": "code",
   "execution_count": 256,
   "id": "a0b23d94-1ac3-45d4-97b6-66f20ece8940",
   "metadata": {},
   "outputs": [],
   "source": [
    "dataset = dataset.drop_duplicates()"
   ]
  },
  {
   "cell_type": "code",
   "execution_count": 257,
   "id": "8ad237e0-7958-4e63-bb82-8851b8457bce",
   "metadata": {},
   "outputs": [
    {
     "name": "stdout",
     "output_type": "stream",
     "text": [
      "9997\n",
      "float64\n"
     ]
    }
   ],
   "source": [
    "dataset = dataset[~dataset['méta_score'].isna()].reset_index(drop=True)\n",
    "dataset = dataset[~dataset['production_company'].isna()].reset_index(drop=True)\n",
    "dataset = dataset[~dataset['stars'].isna()].reset_index(drop=True)\n",
    "dataset = dataset[~dataset['MPA'].isna()].reset_index(drop=True)\n",
    "print(len(dataset))\n",
    "print(dataset['méta_score'].dtype)"
   ]
  },
  {
   "cell_type": "code",
   "execution_count": 258,
   "id": "d81822fe-4441-4598-8499-503ad5fb455d",
   "metadata": {},
   "outputs": [
    {
     "name": "stdout",
     "output_type": "stream",
     "text": [
      "Title                    0\n",
      "Year                     0\n",
      "Duration                 0\n",
      "MPA                      0\n",
      "Rating                   0\n",
      "Votes                    0\n",
      "méta_score               0\n",
      "description              0\n",
      "Movie Link               0\n",
      "writers                  0\n",
      "directors                0\n",
      "stars                    0\n",
      "grossWorldWWide        428\n",
      "release_date             0\n",
      "countries_origin         0\n",
      "production_company       0\n",
      "awards_content        1190\n",
      "genres                   0\n",
      "Languages                0\n",
      "dtype: int64\n"
     ]
    }
   ],
   "source": [
    "dataset = dataset[~dataset['Rating'].isna()].reset_index(drop=True)\n",
    "\n",
    "dataset= dataset.drop(columns=['gross_US_Canada','opening_weekend_Gross','budget', 'filming_locations'])\n",
    "print(dataset.isna().sum())"
   ]
  },
  {
   "cell_type": "code",
   "execution_count": 259,
   "id": "17ce7ca0-6f19-4f4c-b060-7cc17dbf6e41",
   "metadata": {},
   "outputs": [],
   "source": [
    "def convert_duration(duration):\n",
    "    if pd.isna(duration):\n",
    "        return np.nan\n",
    "    hours = re.search(r'(\\d+)h', duration)\n",
    "    minutes = re.search(r'(\\d+)m', duration)\n",
    "    h = int(hours.group(1)) if hours else 0\n",
    "    m = int(minutes.group(1)) if minutes else 0\n",
    "    return h * 60 + m\n",
    "    "
   ]
  },
  {
   "cell_type": "code",
   "execution_count": 260,
   "id": "4a4e283d-2efc-4bed-89af-97130729c81b",
   "metadata": {},
   "outputs": [],
   "source": [
    "dataset['Duration'] = dataset['Duration'].apply(convert_duration)\n"
   ]
  },
  {
   "cell_type": "code",
   "execution_count": 261,
   "id": "ff48a8dc-2e8b-4d70-a060-5ad0b3aa1517",
   "metadata": {},
   "outputs": [],
   "source": [
    "def convert_votes(votes):\n",
    "    if 'K' in votes:\n",
    "        num = float(re.search(r'([\\d.]+)', votes).group(1)) * 1000\n",
    "    elif 'M' in votes:\n",
    "        num = float(re.search(r'([\\d.]+)', votes).group(1)) * 1000000\n",
    "    else:\n",
    "        num = float(votes)\n",
    "    return num\n",
    "dataset['Votes'] = dataset['Votes'].apply(convert_votes)"
   ]
  },
  {
   "cell_type": "code",
   "execution_count": 262,
   "id": "268fd3cb-5df2-4d45-831b-4c7d486bdba3",
   "metadata": {},
   "outputs": [],
   "source": [
    "dataset['Duration'] = dataset['Duration'].fillna(dataset['Duration'].median())"
   ]
  },
  {
   "cell_type": "code",
   "execution_count": 263,
   "id": "20ea7c67-c77b-4413-b35e-54e82dba435b",
   "metadata": {},
   "outputs": [],
   "source": [
    "def convert_gross(gross):\n",
    "    if pd.isna(gross):\n",
    "        return np.nan\n",
    "    gross = int(gross.replace('$', '').replace(',',''))\n",
    "    return gross\n",
    "\n",
    "dataset['grossWorldWWide'] = dataset['grossWorldWWide'].apply(convert_gross)"
   ]
  },
  {
   "cell_type": "code",
   "execution_count": 264,
   "id": "4b39d15b-f459-47e2-b610-144214866701",
   "metadata": {},
   "outputs": [],
   "source": [
    "\n",
    "dataset['grossWorldWWide'] = dataset['grossWorldWWide'].fillna(dataset['grossWorldWWide'].median())\n"
   ]
  },
  {
   "cell_type": "code",
   "execution_count": 265,
   "id": "d6c9a8b4-9348-41ff-9267-3561937a7acb",
   "metadata": {},
   "outputs": [
    {
     "name": "stdout",
     "output_type": "stream",
     "text": [
      "                  Actor  Count\n",
      "0     Samuel L. Jackson     62\n",
      "1       Woody Harrelson     57\n",
      "2          Willem Dafoe     55\n",
      "3           Liam Neeson     52\n",
      "4          J.K. Simmons     49\n",
      "5         Nicole Kidman     49\n",
      "6         Mark Wahlberg     46\n",
      "7        Morgan Freeman     46\n",
      "8        Cate Blanchett     46\n",
      "9        Julianne Moore     46\n",
      "10   Scarlett Johansson     46\n",
      "11         Nicolas Cage     45\n",
      "12           Bill Nighy     45\n",
      "13       John Leguizamo     44\n",
      "14       Robert De Niro     43\n",
      "15          Owen Wilson     43\n",
      "16           Matt Damon     42\n",
      "17         Alec Baldwin     42\n",
      "18        Colin Farrell     42\n",
      "19          Naomi Watts     42\n",
      "20        Ryan Reynolds     42\n",
      "21       Rosario Dawson     41\n",
      "22         James Franco     41\n",
      "23          Ethan Hawke     41\n",
      "24      Kristen Stewart     41\n",
      "25        Paul Giamatti     40\n",
      "26      Richard Jenkins     40\n",
      "27        Tilda Swinton     40\n",
      "28        Steve Buscemi     40\n",
      "29        Jason Statham     40\n",
      "30       Susan Sarandon     40\n",
      "31        Ewan McGregor     40\n",
      "32         Bruce Willis     39\n",
      "33         Ben Kingsley     39\n",
      "34         Will Ferrell     39\n",
      "35         Mark Ruffalo     39\n",
      "36       Dwayne Johnson     39\n",
      "37      Michael Shannon     39\n",
      "38        Stanley Tucci     38\n",
      "39        James Marsden     37\n",
      "40          Johnny Depp     37\n",
      "41        Toni Collette     37\n",
      "42      Charlize Theron     37\n",
      "43         Dennis Quaid     37\n",
      "44          Ben Affleck     37\n",
      "45         Greg Kinnear     37\n",
      "46         Ciarán Hinds     37\n",
      "47      Elizabeth Banks     37\n",
      "48      Bobby Cannavale     37\n",
      "49       Anthony Mackie     37\n",
      "50           Seth Rogen     37\n",
      "51         John Goodman     36\n",
      "52            Ed Harris     36\n",
      "53         Helen Mirren     36\n",
      "54             Jude Law     36\n",
      "55      Anthony Hopkins     36\n",
      "56     Antonio Banderas     36\n",
      "57        Ralph Fiennes     36\n",
      "58         Steve Carell     36\n",
      "59            Tom Hanks     35\n",
      "60       John C. Reilly     35\n",
      "61          Bill Murray     35\n",
      "62           Guy Pearce     35\n",
      "63        Gerard Butler     35\n",
      "64          Zoe Saldaña     35\n",
      "65          Colin Firth     35\n",
      "66         Michael Peña     35\n",
      "67            Amy Adams     35\n",
      "68           Rose Byrne     35\n",
      "69          Mark Strong     35\n",
      "70       Channing Tatum     35\n",
      "71           Idris Elba     35\n",
      "72           Judy Greer     34\n",
      "73         Sam Rockwell     34\n",
      "74        Alfred Molina     34\n",
      "75         Vera Farmiga     34\n",
      "76    Patricia Clarkson     34\n",
      "77        Anne Hathaway     34\n",
      "78          Justin Long     34\n",
      "79            Brian Cox     34\n",
      "80      Peter Sarsgaard     34\n",
      "81            Paul Rudd     34\n",
      "82          Oscar Isaac     34\n",
      "83        Russell Crowe     33\n",
      "84         Marisa Tomei     33\n",
      "85  Matthew McConaughey     33\n",
      "86       Christian Bale     33\n",
      "87         Adam Sandler     33\n",
      "88      Natalie Portman     33\n",
      "89           Jack Black     33\n",
      "90        Penélope Cruz     33\n",
      "91         Laura Linney     33\n",
      "92           Ray Liotta     33\n",
      "93         Eddie Marsan     33\n",
      "94        Jim Broadbent     33\n",
      "95           Toby Jones     33\n",
      "96      Jesse Eisenberg     33\n",
      "97     Chiwetel Ejiofor     33\n",
      "98           Kevin Hart     33\n",
      "99       George Clooney     32\n"
     ]
    }
   ],
   "source": [
    "all_actors = []\n",
    "dataset['stars'] = dataset['stars'].apply(ast.literal_eval)\n",
    "for actors in dataset['stars']:\n",
    "    for actor in actors:\n",
    "        all_actors.append(actor)\n",
    "\n",
    "actor_counts = Counter(all_actors)\n",
    "top_20 = actor_counts.most_common(100)\n",
    "\n",
    "with pd.option_context('display.max_rows', None):\n",
    "    print(top_actors)"
   ]
  },
  {
   "cell_type": "code",
   "execution_count": 266,
   "id": "29dc7d15-2e56-49bb-8c1b-790b6552ccb2",
   "metadata": {},
   "outputs": [],
   "source": [
    "encoder = OneHotEncoder(sparse=False)\n",
    "encoded_mpa = encoder.fit_transform(dataset[['MPA']])\n",
    "encoded_mpa_df = pd.DataFrame(encoded_mpa, columns=encoder.get_feature_names_out(['MPA']))\n",
    "dataset = dataset.drop(columns=['MPA']).reset_index(drop=True)\n",
    "dataset = pd.concat([dataset, encoded_mpa_df], axis=1)\n"
   ]
  },
  {
   "cell_type": "code",
   "execution_count": 268,
   "id": "00f5c677-0cdf-4276-99af-e0387173fdca",
   "metadata": {},
   "outputs": [
    {
     "name": "stdout",
     "output_type": "stream",
     "text": [
      "Encoded columns: ['MPA_13+', 'MPA_16+', 'MPA_18+', 'MPA_Approved', 'MPA_G', 'MPA_MA-17', 'MPA_NC-17', 'MPA_Not Rated', 'MPA_PG', 'MPA_PG-13', 'MPA_R', 'MPA_TV-14', 'MPA_TV-G', 'MPA_TV-MA', 'MPA_TV-PG', 'MPA_TV-Y7', 'MPA_Unrated']\n",
      "   MPA_13+  MPA_16+  MPA_18+  MPA_Approved  MPA_G  MPA_MA-17  MPA_NC-17  \\\n",
      "0      0.0      0.0      0.0           0.0    0.0        0.0        0.0   \n",
      "1      0.0      0.0      0.0           0.0    0.0        0.0        0.0   \n",
      "2      0.0      0.0      0.0           0.0    0.0        0.0        0.0   \n",
      "3      0.0      0.0      0.0           0.0    0.0        0.0        0.0   \n",
      "4      0.0      0.0      0.0           0.0    0.0        0.0        0.0   \n",
      "\n",
      "   MPA_Not Rated  MPA_PG  MPA_PG-13  MPA_R  MPA_TV-14  MPA_TV-G  MPA_TV-MA  \\\n",
      "0            0.0     1.0        0.0    0.0        0.0       0.0        0.0   \n",
      "1            0.0     0.0        1.0    0.0        0.0       0.0        0.0   \n",
      "2            0.0     0.0        1.0    0.0        0.0       0.0        0.0   \n",
      "3            0.0     0.0        0.0    1.0        0.0       0.0        0.0   \n",
      "4            0.0     0.0        1.0    0.0        0.0       0.0        0.0   \n",
      "\n",
      "   MPA_TV-PG  MPA_TV-Y7  MPA_Unrated  \n",
      "0        0.0        0.0          0.0  \n",
      "1        0.0        0.0          0.0  \n",
      "2        0.0        0.0          0.0  \n",
      "3        0.0        0.0          0.0  \n",
      "4        0.0        0.0          0.0  \n",
      "1.0    9995\n",
      "Name: count, dtype: int64\n"
     ]
    }
   ],
   "source": [
    " print(\"Encoded columns:\", encoded_mpa_df.columns.tolist())\n",
    "print(encoded_mpa_df.head())\n",
    "\n",
    "# Проверим, что сумма по строкам равна 1 (one-hot encoding)\n",
    "print(encoded_mpa_df.sum(axis=1).value_counts())"
   ]
  },
  {
   "cell_type": "code",
   "execution_count": 271,
   "id": "465fc772-450f-42b7-bb44-ee2e2622295b",
   "metadata": {},
   "outputs": [],
   "source": [
    "dataset['writers'] = dataset['writers'].apply(ast.literal_eval)"
   ]
  },
  {
   "cell_type": "code",
   "execution_count": 273,
   "id": "0664f75b-0bb5-4f5d-a635-35a357f3d8fb",
   "metadata": {},
   "outputs": [],
   "source": [
    "#dataset['director'] = dataset['director'].apply(ast.literal_eval)\n",
    "dataset['countries_origin'] = dataset['countries_origin'].apply(ast.literal_eval)\n",
    "dataset['production_company'] = dataset['production_company'].apply(ast.literal_eval)\n",
    "dataset['genres'] = dataset['genres'].apply(ast.literal_eval)\n",
    "dataset['Languages'] = dataset['Languages'].apply(ast.literal_eval)"
   ]
  },
  {
   "cell_type": "code",
   "execution_count": 275,
   "id": "d3c3ea04-d1bd-4aa0-b184-b684e9e6f1d5",
   "metadata": {},
   "outputs": [],
   "source": [
    "dataset['directors'] = dataset['directors'].apply(ast.literal_eval)"
   ]
  },
  {
   "cell_type": "code",
   "execution_count": null,
   "id": "430f59b9-d3cb-4418-a7ab-39f75afb35e1",
   "metadata": {},
   "outputs": [],
   "source": [
    "all_genres"
   ]
  }
 ],
 "metadata": {
  "kernelspec": {
   "display_name": "Python 3 (ipykernel)",
   "language": "python",
   "name": "python3"
  },
  "language_info": {
   "codemirror_mode": {
    "name": "ipython",
    "version": 3
   },
   "file_extension": ".py",
   "mimetype": "text/x-python",
   "name": "python",
   "nbconvert_exporter": "python",
   "pygments_lexer": "ipython3",
   "version": "3.9.13"
  }
 },
 "nbformat": 4,
 "nbformat_minor": 5
}
