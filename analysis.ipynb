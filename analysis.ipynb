{
 "cells": [
  {
   "cell_type": "code",
   "execution_count": 1,
   "id": "9c88b5be-d944-4997-8663-606484631f3b",
   "metadata": {},
   "outputs": [],
   "source": [
    "\n",
    "import numpy as np\n",
    "import matplotlib.pyplot as plt\n",
    "import pandas as pd\n",
    "import re"
   ]
  },
  {
   "cell_type": "code",
   "execution_count": 2,
   "id": "33b4fe26-c1f7-408f-8fbf-fce722c93943",
   "metadata": {},
   "outputs": [],
   "source": [
    "path = \"archive-2/Data/all_years\"\n",
    "datasets = []"
   ]
  },
  {
   "cell_type": "code",
   "execution_count": 3,
   "id": "393ce9f4-d08e-49bf-abf2-971395bfe066",
   "metadata": {},
   "outputs": [],
   "source": [
    "for i in range(2000, 2026):\n",
    "    file = f'{path}/merged_movies_data_{i}.csv'\n",
    "    data = pd.read_csv(file)\n",
    "    datasets.append(data)\n",
    "dataset = pd.concat(datasets, ignore_index=True)\n"
   ]
  },
  {
   "cell_type": "code",
   "execution_count": 4,
   "id": "2cdd7c95-2357-4bd8-89af-15d9db005aba",
   "metadata": {},
   "outputs": [],
   "source": [
    "\n",
    "dataset.to_csv('combined_dataset.csv', index=False)"
   ]
  },
  {
   "cell_type": "code",
   "execution_count": 5,
   "id": "a0b23d94-1ac3-45d4-97b6-66f20ece8940",
   "metadata": {},
   "outputs": [],
   "source": [
    "dataset = dataset.drop_duplicates()"
   ]
  },
  {
   "cell_type": "code",
   "execution_count": 6,
   "id": "8ad237e0-7958-4e63-bb82-8851b8457bce",
   "metadata": {},
   "outputs": [
    {
     "name": "stdout",
     "output_type": "stream",
     "text": [
      "11194\n",
      "float64\n"
     ]
    }
   ],
   "source": [
    "dataset = dataset[~dataset['méta_score'].isna()].reset_index(drop=True)\n",
    "print(len(dataset))\n",
    "print(dataset['méta_score'].dtype)"
   ]
  },
  {
   "cell_type": "code",
   "execution_count": 7,
   "id": "d81822fe-4441-4598-8499-503ad5fb455d",
   "metadata": {},
   "outputs": [],
   "source": [
    "dataset = dataset[~dataset['Rating'].isna()].reset_index(drop=True)\n",
    "\n",
    "dataset= dataset.drop(columns=['gross_US_Canada','opening_weekend_Gross','budget'])\n"
   ]
  },
  {
   "cell_type": "code",
   "execution_count": 8,
   "id": "17ce7ca0-6f19-4f4c-b060-7cc17dbf6e41",
   "metadata": {},
   "outputs": [],
   "source": [
    "def convert_duration(duration):\n",
    "    if pd.isna(duration):\n",
    "        return np.nan\n",
    "    hours = re.search(r'(\\d+)h', duration)\n",
    "    minutes = re.search(r'(\\d+)m', duration)\n",
    "    h = int(hours.group(1)) if hours else 0\n",
    "    m = int(minutes.group(1)) if minutes else 0\n",
    "    return h * 60 + m\n",
    "    "
   ]
  },
  {
   "cell_type": "code",
   "execution_count": 9,
   "id": "4a4e283d-2efc-4bed-89af-97130729c81b",
   "metadata": {},
   "outputs": [],
   "source": [
    "dataset['Duration'] = dataset['Duration'].apply(convert_duration)\n"
   ]
  },
  {
   "cell_type": "code",
   "execution_count": 10,
   "id": "ff48a8dc-2e8b-4d70-a060-5ad0b3aa1517",
   "metadata": {},
   "outputs": [],
   "source": [
    "def convert_votes(votes):\n",
    "    if 'K' in votes:\n",
    "        num = float(re.search(r'([\\d.]+)', votes).group(1)) * 1000\n",
    "    elif 'M' in votes:\n",
    "        num = float(re.search(r'([\\d.]+)', votes).group(1)) * 1000000\n",
    "    else:\n",
    "        num = float(votes)\n",
    "    return num\n",
    "dataset['Votes'] = dataset['Votes'].apply(convert_votes)"
   ]
  },
  {
   "cell_type": "code",
   "execution_count": 11,
   "id": "268fd3cb-5df2-4d45-831b-4c7d486bdba3",
   "metadata": {},
   "outputs": [],
   "source": [
    "dataset['Duration'] = dataset['Duration'].fillna(dataset['Duration'].median())"
   ]
  },
  {
   "cell_type": "code",
   "execution_count": 12,
   "id": "20ea7c67-c77b-4413-b35e-54e82dba435b",
   "metadata": {},
   "outputs": [],
   "source": [
    "def convert_gross(gross):\n",
    "    if pd.isna(gross):\n",
    "        return np.nan\n",
    "    gross = int(gross.replace('$', '').replace(',',''))\n",
    "    return gross\n",
    "\n",
    "dataset['grossWorldWWide'] = dataset['grossWorldWWide'].apply(convert_gross)"
   ]
  },
  {
   "cell_type": "code",
   "execution_count": 14,
   "id": "4b39d15b-f459-47e2-b610-144214866701",
   "metadata": {},
   "outputs": [],
   "source": [
    "dataset['MPA'] = dataset['MPA'].fillna('Not Rated')\n",
    "dataset['stars'] = dataset['stars'].fillna('Unknown')\n",
    "dataset['description'] = dataset['description'].fillna('Not Given')\n",
    "dataset[['countries_origin','production_company','filming_locations']] = dataset[['countries_origin','production_company','filming_locations']].fillna('Unknown')\n",
    "dataset['awards_content'] = dataset['awards_content'].fillna('No Awards')\n",
    "dataset['grossWorldWWide'] = dataset['grossWorldWWide'].fillna(dataset['grossWorldWWide'].median())\n"
   ]
  },
  {
   "cell_type": "code",
   "execution_count": null,
   "id": "b74a5513-0848-421a-a726-4974222368ab",
   "metadata": {},
   "outputs": [],
   "source": []
  }
 ],
 "metadata": {
  "kernelspec": {
   "display_name": "Python 3 (ipykernel)",
   "language": "python",
   "name": "python3"
  },
  "language_info": {
   "codemirror_mode": {
    "name": "ipython",
    "version": 3
   },
   "file_extension": ".py",
   "mimetype": "text/x-python",
   "name": "python",
   "nbconvert_exporter": "python",
   "pygments_lexer": "ipython3",
   "version": "3.9.13"
  }
 },
 "nbformat": 4,
 "nbformat_minor": 5
}
