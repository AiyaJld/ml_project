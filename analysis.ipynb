{
 "cells": [
  {
   "cell_type": "code",
   "execution_count": 252,
   "id": "9c88b5be-d944-4997-8663-606484631f3b",
   "metadata": {},
   "outputs": [],
   "source": [
    "\n",
    "import numpy as np\n",
    "import matplotlib.pyplot as plt\n",
    "import pandas as pd\n",
    "import re\n",
    "from collections import Counter\n",
    "import ast\n",
    "from collections import Counter\n",
    "from sklearn.preprocessing import OneHotEncoder"
   ]
  },
  {
   "cell_type": "code",
   "execution_count": 253,
   "id": "33b4fe26-c1f7-408f-8fbf-fce722c93943",
   "metadata": {},
   "outputs": [],
   "source": [
    "path = \"archive-2/Data/all_years\"\n",
    "datasets = []"
   ]
  },
  {
   "cell_type": "code",
   "execution_count": 254,
   "id": "393ce9f4-d08e-49bf-abf2-971395bfe066",
   "metadata": {},
   "outputs": [],
   "source": [
    "for i in range(2000, 2026):\n",
    "    file = f'{path}/merged_movies_data_{i}.csv'\n",
    "    data = pd.read_csv(file)\n",
    "    datasets.append(data)\n",
    "dataset = pd.concat(datasets, ignore_index=True)\n"
   ]
  },
  {
   "cell_type": "code",
   "execution_count": 255,
   "id": "2cdd7c95-2357-4bd8-89af-15d9db005aba",
   "metadata": {},
   "outputs": [],
   "source": [
    "\n",
    "dataset.to_csv('combined_dataset.csv', index=False)"
   ]
  },
  {
   "cell_type": "code",
   "execution_count": 256,
   "id": "a0b23d94-1ac3-45d4-97b6-66f20ece8940",
   "metadata": {},
   "outputs": [],
   "source": [
    "dataset = dataset.drop_duplicates()"
   ]
  },
  {
   "cell_type": "code",
   "execution_count": 257,
   "id": "8ad237e0-7958-4e63-bb82-8851b8457bce",
   "metadata": {},
   "outputs": [
    {
     "name": "stdout",
     "output_type": "stream",
     "text": [
      "9997\n",
      "float64\n"
     ]
    }
   ],
   "source": [
    "dataset = dataset[~dataset['méta_score'].isna()].reset_index(drop=True)\n",
    "dataset = dataset[~dataset['production_company'].isna()].reset_index(drop=True)\n",
    "dataset = dataset[~dataset['stars'].isna()].reset_index(drop=True)\n",
    "dataset = dataset[~dataset['MPA'].isna()].reset_index(drop=True)\n",
    "print(len(dataset))\n",
    "print(dataset['méta_score'].dtype)"
   ]
  },
  {
   "cell_type": "code",
   "execution_count": 258,
   "id": "d81822fe-4441-4598-8499-503ad5fb455d",
   "metadata": {},
   "outputs": [
    {
     "name": "stdout",
     "output_type": "stream",
     "text": [
      "Title                    0\n",
      "Year                     0\n",
      "Duration                 0\n",
      "MPA                      0\n",
      "Rating                   0\n",
      "Votes                    0\n",
      "méta_score               0\n",
      "description              0\n",
      "Movie Link               0\n",
      "writers                  0\n",
      "directors                0\n",
      "stars                    0\n",
      "grossWorldWWide        428\n",
      "release_date             0\n",
      "countries_origin         0\n",
      "production_company       0\n",
      "awards_content        1190\n",
      "genres                   0\n",
      "Languages                0\n",
      "dtype: int64\n"
     ]
    }
   ],
   "source": [
    "dataset = dataset[~dataset['Rating'].isna()].reset_index(drop=True)\n",
    "\n",
    "dataset= dataset.drop(columns=['gross_US_Canada','opening_weekend_Gross','budget', 'filming_locations'])\n",
    "print(dataset.isna().sum())"
   ]
  },
  {
   "cell_type": "code",
   "execution_count": 259,
   "id": "17ce7ca0-6f19-4f4c-b060-7cc17dbf6e41",
   "metadata": {},
   "outputs": [],
   "source": [
    "def convert_duration(duration):\n",
    "    if pd.isna(duration):\n",
    "        return np.nan\n",
    "    hours = re.search(r'(\\d+)h', duration)\n",
    "    minutes = re.search(r'(\\d+)m', duration)\n",
    "    h = int(hours.group(1)) if hours else 0\n",
    "    m = int(minutes.group(1)) if minutes else 0\n",
    "    return h * 60 + m\n",
    "    "
   ]
  },
  {
   "cell_type": "code",
   "execution_count": 260,
   "id": "4a4e283d-2efc-4bed-89af-97130729c81b",
   "metadata": {},
   "outputs": [],
   "source": [
    "dataset['Duration'] = dataset['Duration'].apply(convert_duration)\n"
   ]
  },
  {
   "cell_type": "code",
   "execution_count": 261,
   "id": "ff48a8dc-2e8b-4d70-a060-5ad0b3aa1517",
   "metadata": {},
   "outputs": [],
   "source": [
    "def convert_votes(votes):\n",
    "    if 'K' in votes:\n",
    "        num = float(re.search(r'([\\d.]+)', votes).group(1)) * 1000\n",
    "    elif 'M' in votes:\n",
    "        num = float(re.search(r'([\\d.]+)', votes).group(1)) * 1000000\n",
    "    else:\n",
    "        num = float(votes)\n",
    "    return num\n",
    "dataset['Votes'] = dataset['Votes'].apply(convert_votes)"
   ]
  },
  {
   "cell_type": "code",
   "execution_count": 262,
   "id": "268fd3cb-5df2-4d45-831b-4c7d486bdba3",
   "metadata": {},
   "outputs": [],
   "source": [
    "dataset['Duration'] = dataset['Duration'].fillna(dataset['Duration'].median())"
   ]
  },
  {
   "cell_type": "code",
   "execution_count": 263,
   "id": "20ea7c67-c77b-4413-b35e-54e82dba435b",
   "metadata": {},
   "outputs": [],
   "source": [
    "def convert_gross(gross):\n",
    "    if pd.isna(gross):\n",
    "        return np.nan\n",
    "    gross = int(gross.replace('$', '').replace(',',''))\n",
    "    return gross\n",
    "\n",
    "dataset['grossWorldWWide'] = dataset['grossWorldWWide'].apply(convert_gross)"
   ]
  },
  {
   "cell_type": "code",
   "execution_count": 264,
   "id": "4b39d15b-f459-47e2-b610-144214866701",
   "metadata": {},
   "outputs": [],
   "source": [
    "\n",
    "dataset['grossWorldWWide'] = dataset['grossWorldWWide'].fillna(dataset['grossWorldWWide'].median())\n"
   ]
  },
  {
   "cell_type": "code",
   "execution_count": 265,
   "id": "d6c9a8b4-9348-41ff-9267-3561937a7acb",
   "metadata": {},
   "outputs": [
    {
     "name": "stdout",
     "output_type": "stream",
     "text": [
      "                  Actor  Count\n",
      "0     Samuel L. Jackson     62\n",
      "1       Woody Harrelson     57\n",
      "2          Willem Dafoe     55\n",
      "3           Liam Neeson     52\n",
      "4          J.K. Simmons     49\n",
      "5         Nicole Kidman     49\n",
      "6         Mark Wahlberg     46\n",
      "7        Morgan Freeman     46\n",
      "8        Cate Blanchett     46\n",
      "9        Julianne Moore     46\n",
      "10   Scarlett Johansson     46\n",
      "11         Nicolas Cage     45\n",
      "12           Bill Nighy     45\n",
      "13       John Leguizamo     44\n",
      "14       Robert De Niro     43\n",
      "15          Owen Wilson     43\n",
      "16           Matt Damon     42\n",
      "17         Alec Baldwin     42\n",
      "18        Colin Farrell     42\n",
      "19          Naomi Watts     42\n",
      "20        Ryan Reynolds     42\n",
      "21       Rosario Dawson     41\n",
      "22         James Franco     41\n",
      "23          Ethan Hawke     41\n",
      "24      Kristen Stewart     41\n",
      "25        Paul Giamatti     40\n",
      "26      Richard Jenkins     40\n",
      "27        Tilda Swinton     40\n",
      "28        Steve Buscemi     40\n",
      "29        Jason Statham     40\n",
      "30       Susan Sarandon     40\n",
      "31        Ewan McGregor     40\n",
      "32         Bruce Willis     39\n",
      "33         Ben Kingsley     39\n",
      "34         Will Ferrell     39\n",
      "35         Mark Ruffalo     39\n",
      "36       Dwayne Johnson     39\n",
      "37      Michael Shannon     39\n",
      "38        Stanley Tucci     38\n",
      "39        James Marsden     37\n",
      "40          Johnny Depp     37\n",
      "41        Toni Collette     37\n",
      "42      Charlize Theron     37\n",
      "43         Dennis Quaid     37\n",
      "44          Ben Affleck     37\n",
      "45         Greg Kinnear     37\n",
      "46         Ciarán Hinds     37\n",
      "47      Elizabeth Banks     37\n",
      "48      Bobby Cannavale     37\n",
      "49       Anthony Mackie     37\n",
      "50           Seth Rogen     37\n",
      "51         John Goodman     36\n",
      "52            Ed Harris     36\n",
      "53         Helen Mirren     36\n",
      "54             Jude Law     36\n",
      "55      Anthony Hopkins     36\n",
      "56     Antonio Banderas     36\n",
      "57        Ralph Fiennes     36\n",
      "58         Steve Carell     36\n",
      "59            Tom Hanks     35\n",
      "60       John C. Reilly     35\n",
      "61          Bill Murray     35\n",
      "62           Guy Pearce     35\n",
      "63        Gerard Butler     35\n",
      "64          Zoe Saldaña     35\n",
      "65          Colin Firth     35\n",
      "66         Michael Peña     35\n",
      "67            Amy Adams     35\n",
      "68           Rose Byrne     35\n",
      "69          Mark Strong     35\n",
      "70       Channing Tatum     35\n",
      "71           Idris Elba     35\n",
      "72           Judy Greer     34\n",
      "73         Sam Rockwell     34\n",
      "74        Alfred Molina     34\n",
      "75         Vera Farmiga     34\n",
      "76    Patricia Clarkson     34\n",
      "77        Anne Hathaway     34\n",
      "78          Justin Long     34\n",
      "79            Brian Cox     34\n",
      "80      Peter Sarsgaard     34\n",
      "81            Paul Rudd     34\n",
      "82          Oscar Isaac     34\n",
      "83        Russell Crowe     33\n",
      "84         Marisa Tomei     33\n",
      "85  Matthew McConaughey     33\n",
      "86       Christian Bale     33\n",
      "87         Adam Sandler     33\n",
      "88      Natalie Portman     33\n",
      "89           Jack Black     33\n",
      "90        Penélope Cruz     33\n",
      "91         Laura Linney     33\n",
      "92           Ray Liotta     33\n",
      "93         Eddie Marsan     33\n",
      "94        Jim Broadbent     33\n",
      "95           Toby Jones     33\n",
      "96      Jesse Eisenberg     33\n",
      "97     Chiwetel Ejiofor     33\n",
      "98           Kevin Hart     33\n",
      "99       George Clooney     32\n"
     ]
    }
   ],
   "source": [
    "all_actors = []\n",
    "dataset['stars'] = dataset['stars'].apply(ast.literal_eval)\n",
    "for actors in dataset['stars']:\n",
    "    for actor in actors:\n",
    "        all_actors.append(actor)\n",
    "\n",
    "actor_counts = Counter(all_actors)\n",
    "top_20 = actor_counts.most_common(100)\n",
    "\n",
    "with pd.option_context('display.max_rows', None):\n",
    "    print(top_actors)"
   ]
  },
  {
   "cell_type": "code",
   "execution_count": 266,
   "id": "29dc7d15-2e56-49bb-8c1b-790b6552ccb2",
   "metadata": {},
   "outputs": [],
   "source": [
    "encoder = OneHotEncoder(sparse=False)\n",
    "encoded_mpa = encoder.fit_transform(dataset[['MPA']])\n",
    "encoded_mpa_df = pd.DataFrame(encoded_mpa, columns=encoder.get_feature_names_out(['MPA']))\n",
    "dataset = dataset.drop(columns=['MPA']).reset_index(drop=True)\n",
    "dataset = pd.concat([dataset, encoded_mpa_df], axis=1)\n"
   ]
  },
  {
   "cell_type": "code",
   "execution_count": 268,
   "id": "00f5c677-0cdf-4276-99af-e0387173fdca",
   "metadata": {},
   "outputs": [
    {
     "name": "stdout",
     "output_type": "stream",
     "text": [
      "Encoded columns: ['MPA_13+', 'MPA_16+', 'MPA_18+', 'MPA_Approved', 'MPA_G', 'MPA_MA-17', 'MPA_NC-17', 'MPA_Not Rated', 'MPA_PG', 'MPA_PG-13', 'MPA_R', 'MPA_TV-14', 'MPA_TV-G', 'MPA_TV-MA', 'MPA_TV-PG', 'MPA_TV-Y7', 'MPA_Unrated']\n",
      "   MPA_13+  MPA_16+  MPA_18+  MPA_Approved  MPA_G  MPA_MA-17  MPA_NC-17  \\\n",
      "0      0.0      0.0      0.0           0.0    0.0        0.0        0.0   \n",
      "1      0.0      0.0      0.0           0.0    0.0        0.0        0.0   \n",
      "2      0.0      0.0      0.0           0.0    0.0        0.0        0.0   \n",
      "3      0.0      0.0      0.0           0.0    0.0        0.0        0.0   \n",
      "4      0.0      0.0      0.0           0.0    0.0        0.0        0.0   \n",
      "\n",
      "   MPA_Not Rated  MPA_PG  MPA_PG-13  MPA_R  MPA_TV-14  MPA_TV-G  MPA_TV-MA  \\\n",
      "0            0.0     1.0        0.0    0.0        0.0       0.0        0.0   \n",
      "1            0.0     0.0        1.0    0.0        0.0       0.0        0.0   \n",
      "2            0.0     0.0        1.0    0.0        0.0       0.0        0.0   \n",
      "3            0.0     0.0        0.0    1.0        0.0       0.0        0.0   \n",
      "4            0.0     0.0        1.0    0.0        0.0       0.0        0.0   \n",
      "\n",
      "   MPA_TV-PG  MPA_TV-Y7  MPA_Unrated  \n",
      "0        0.0        0.0          0.0  \n",
      "1        0.0        0.0          0.0  \n",
      "2        0.0        0.0          0.0  \n",
      "3        0.0        0.0          0.0  \n",
      "4        0.0        0.0          0.0  \n",
      "1.0    9995\n",
      "Name: count, dtype: int64\n"
     ]
    }
   ],
   "source": [
    " print(\"Encoded columns:\", encoded_mpa_df.columns.tolist())\n",
    "print(encoded_mpa_df.head())\n",
    "\n",
    "# Проверим, что сумма по строкам равна 1 (one-hot encoding)\n",
    "print(encoded_mpa_df.sum(axis=1).value_counts())"
   ]
  },
  {
   "cell_type": "code",
   "execution_count": 271,
   "id": "465fc772-450f-42b7-bb44-ee2e2622295b",
   "metadata": {},
   "outputs": [],
   "source": [
    "dataset['writers'] = dataset['writers'].apply(ast.literal_eval)"
   ]
  },
  {
   "cell_type": "code",
   "execution_count": 273,
   "id": "0664f75b-0bb5-4f5d-a635-35a357f3d8fb",
   "metadata": {},
   "outputs": [],
   "source": [
    "#dataset['director'] = dataset['director'].apply(ast.literal_eval)\n",
    "dataset['countries_origin'] = dataset['countries_origin'].apply(ast.literal_eval)\n",
    "dataset['production_company'] = dataset['production_company'].apply(ast.literal_eval)\n",
    "dataset['genres'] = dataset['genres'].apply(ast.literal_eval)\n",
    "dataset['Languages'] = dataset['Languages'].apply(ast.literal_eval)"
   ]
  },
  {
   "cell_type": "code",
   "execution_count": 275,
   "id": "d3c3ea04-d1bd-4aa0-b184-b684e9e6f1d5",
   "metadata": {},
   "outputs": [],
   "source": [
    "dataset['directors'] = dataset['directors'].apply(ast.literal_eval)"
   ]
  },
  {
   "cell_type": "code",
   "execution_count": 311,
   "id": "430f59b9-d3cb-4418-a7ab-39f75afb35e1",
   "metadata": {},
   "outputs": [],
   "source": [
    "import numpy as np\n",
    "import matplotlib.pyplot as plt\n",
    "import pandas as pd\n",
    "import re\n",
    "import ast\n",
    "from collections import Counter\n",
    "from sklearn.preprocessing import OneHotEncoder \n",
    "from sklearn.model_selection import train_test_split \n",
    "from sklearn.preprocessing import StandardScaler\n",
    "from sklearn.linear_model import LinearRegression\n",
    "from sklearn.metrics import mean_squared_error, r2_score\n",
    "\n",
    "# Path to folder containing CSV files\n",
    "path = \"archive-2/Data/all_years\"\n",
    "datasets = []\n",
    "\n",
    "# Loop through years 2000 to 2025 and load CSV files into a list\n",
    "for i in range(2000, 2026):\n",
    "    file = f'{path}/merged_movies_data_{i}.csv'\n",
    "    data = pd.read_csv(file)\n",
    "    datasets.append(data)\n",
    "\n",
    "# Combine all yearly datasets into a single DataFrame\n",
    "dataset = pd.concat(datasets, ignore_index=True)\n",
    "\n",
    "# Save combined dataset to a CSV file\n",
    "dataset.to_csv('combined_dataset.csv', index=False)  \n",
    "\n",
    "# Remove duplicate rows from the combined dataset\n",
    "dataset = dataset.drop_duplicates()\n",
    "\n",
    "# Remove rows where important columns have missing values\n",
    "dataset = dataset[~dataset['méta_score'].isna()]\n",
    "dataset = dataset[~dataset['production_company'].isna()]\n",
    "dataset = dataset[~dataset['stars'].isna()]\n",
    "dataset = dataset[~dataset['MPA'].isna()]\n",
    "dataset = dataset[~dataset['Rating'].isna()]\n",
    "dataset = dataset.reset_index(drop=True)\n",
    "\n",
    "# Drop columns that are irrelevant or unnecessary for analysis\n",
    "dataset = dataset.drop(columns=['gross_US_Canada','opening_weekend_Gross','budget', 'Movie Link', 'description', 'filming_locations', 'release_date'])\n",
    "\n",
    "# Function to convert duration strings (e.g., '2h 30m') to total minutes\n",
    "def convert_duration(duration):\n",
    "    if pd.isna(duration):\n",
    "        return np.nan\n",
    "    hours = re.search(r'(\\d+)h', duration)\n",
    "    minutes = re.search(r'(\\d+)m', duration)\n",
    "    h = int(hours.group(1)) if hours else 0\n",
    "    m = int(minutes.group(1)) if minutes else 0\n",
    "    return h * 60 + m\n",
    "\n",
    "# Function to convert votes with 'K' or 'M' suffixes to numeric values\n",
    "def convert_votes(votes):\n",
    "    if pd.isna(votes):\n",
    "        return 0\n",
    "    if 'K' in votes:\n",
    "        num = float(re.search(r'([\\d.]+)', votes).group(1)) * 1000\n",
    "    elif 'M' in votes:\n",
    "        num = float(re.search(r'([\\d.]+)', votes).group(1)) * 1000000\n",
    "    else:\n",
    "        num = float(votes)\n",
    "    return num\n",
    "\n",
    "# Function to convert gross revenue strings like \"$123,456,789\" to integers\n",
    "def convert_gross(gross):\n",
    "    if pd.isna(gross):\n",
    "        return np.nan\n",
    "    gross = int(gross.replace('$', '').replace(',',''))\n",
    "    return gross\n",
    "\n",
    "# Fill missing values in 'awards_content' column with a default list ['No awards']\n",
    "for i in range(len(dataset)):\n",
    "    if pd.isna(dataset.at[i, 'awards_content']):\n",
    "        dataset.at[i, 'awards_content'] = ['No awards']\n",
    "\n",
    "# Apply the conversion functions to appropriate columns\n",
    "dataset['grossWorldWWide'] = dataset['grossWorldWWide'].apply(convert_gross)\n",
    "dataset['Votes'] = dataset['Votes'].apply(convert_votes)\n",
    "dataset['Duration'] = dataset['Duration'].apply(convert_duration)\n",
    "\n",
    "# Fill missing gross revenue values with the median of the column\n",
    "dataset['grossWorldWWide'] = dataset['grossWorldWWide'].fillna(dataset['grossWorldWWide'].median())\n",
    "\n",
    "# Function to extract Oscar nominations, wins, total nominations, and total wins from awards text\n",
    "def award_proc(awards):\n",
    "    if not isinstance(awards, str):\n",
    "        return 0, 0, 0, 0\n",
    "    oscar_nominated = 0\n",
    "    oscar_won = 0\n",
    "    nominations = 0\n",
    "    wins = 0\n",
    "\n",
    "    find_oscar_won = re.search(r'Won (\\d+) Oscars?', awards)\n",
    "    if find_oscar_won:\n",
    "        oscar_won = int(find_oscar_won.group(1))\n",
    "    find_oscar = re.search(r'Nominated for (\\d+) Oscars?', awards)\n",
    "    if find_oscar:\n",
    "        oscar_nominated = int(find_oscar.group(1))\n",
    "    find_nominations = re.search(r'(\\d+) nominations? total', awards)\n",
    "    if find_nominations:\n",
    "        nominations = int(find_nominations.group(1))\n",
    "    find_wins = re.search(r'(\\d+) wins?', awards)\n",
    "    if find_wins:\n",
    "        wins = int(find_wins.group(1))\n",
    "    return oscar_nominated, oscar_won, nominations, wins\n",
    "\n",
    "# Parse awards information and store in separate lists\n",
    "oscar_nominated = []\n",
    "oscar_won = []\n",
    "nominations = []\n",
    "wins = []\n",
    "\n",
    "for text in dataset[\"awards_content\"]:\n",
    "    on, ow, n, w = award_proc(text)\n",
    "    oscar_nominated.append(on)\n",
    "    oscar_won.append(ow)\n",
    "    nominations.append(n)\n",
    "    wins.append(w)\n",
    "\n",
    "# Add awards info as new columns to dataset\n",
    "dataset['Oscar_nominated'] = oscar_nominated\n",
    "dataset['Oscar_won'] = oscar_won\n",
    "dataset['Nominations'] = nominations\n",
    "dataset['Wins'] = wins\n",
    "\n",
    "# Convert string representations of lists in 'stars' column to actual Python lists\n",
    "dataset['stars'] = dataset['stars'].apply(ast.literal_eval)\n",
    "\n",
    "# Flatten all actors across all movies into a single list\n",
    "all_actors = [actor for ls in dataset['stars'] for actor in ls]\n",
    "\n",
    "# Count frequency of each actor and select the top 100 most frequent actors\n",
    "actor_counts = Counter(all_actors)\n",
    "top_100 = actor_counts.most_common(100)\n",
    "top_actors_ls = [actor for actor, count in top_100]\n",
    "\n",
    "# Create one-hot encoded columns for presence of top 100 actors in each movie\n",
    "top_actors = pd.DataFrame({\n",
    "    actor: dataset['stars'].map(lambda x: actor in x).astype(int)\n",
    "    for actor in top_actors_ls\n",
    "})\n",
    "\n",
    "# Add the one-hot actor columns to the original dataset\n",
    "dataset = pd.concat([dataset, top_actors], axis=1)\n",
    "\n",
    "# Create a new feature that counts how many of the top 100 actors appear in each movie\n",
    "dataset['top_actor_count'] = dataset[top_actors_ls].sum(axis=1)\n",
    "\n",
    "# One-hot encode the 'MPA' rating column using sklearn's OneHotEncoder\n",
    "encoder = OneHotEncoder(sparse=False)\n",
    "encoded_mpa = encoder.fit_transform(dataset[['MPA']])\n",
    "encoded_mpa_df = pd.DataFrame(encoded_mpa, columns=encoder.get_feature_names_out(['MPA']))\n",
    "\n",
    "# Drop original 'MPA' column and concatenate encoded columns\n",
    "dataset = dataset.drop(columns=['MPA']).reset_index(drop=True)\n",
    "dataset = pd.concat([dataset, encoded_mpa_df], axis=1)\n",
    "\n",
    "# Convert stringified lists in various columns to actual lists\n",
    "dataset['countries_origin'] = dataset['countries_origin'].apply(ast.literal_eval)\n",
    "dataset['production_company'] = dataset['production_company'].apply(ast.literal_eval)\n",
    "dataset['genres'] = dataset['genres'].apply(ast.literal_eval)\n",
    "dataset['Languages'] = dataset['Languages'].apply(ast.literal_eval)\n",
    "dataset['directors'] = dataset['directors'].apply(ast.literal_eval)\n",
    "dataset['writers'] = dataset['writers'].apply(ast.literal_eval)\n",
    "\n",
    "# Extract all unique genres and create one-hot encoded columns for each genre\n",
    "all_genres = set([genre for ls in dataset['genres'] for genre in ls])\n",
    "genre_col = {}\n",
    "for genre in all_genres:\n",
    "    genre_col[f'genre_{genre}'] = dataset['genres'].apply(lambda x: int(genre in x))\n",
    "genre_df = pd.DataFrame(genre_col)\n",
    "dataset = pd.concat([dataset, genre_df], axis=1)\n",
    "\n",
    "# Find top 50 writers by frequency and create one-hot encoded columns for them\n",
    "all_writers = [writer for ls in dataset['writers'] for writer in ls]\n",
    "writer_counts = Counter(all_writers)\n",
    "top_50 = writer_counts.most_common(50)\n",
    "top_writers_ls = [writer for writer, count in top_50]\n",
    "top_writers = pd.DataFrame({\n",
    "    writer: dataset['writers'].map(lambda x: writer in x).astype(int)\n",
    "    for writer in top_writers_ls\n",
    "})\n",
    "\n",
    "# Find top 40 directors by frequency and create one-hot encoded columns for them\n",
    "all_directors = [director for ls in dataset['directors'] for director in ls]\n",
    "director_counts = Counter(all_directors)\n",
    "top_40 = director_counts.most_common(40)\n",
    "top_director_ls = [director for director, count in top_40]\n",
    "top_director = pd.DataFrame({\n",
    "    director: dataset['directors'].map(lambda x: director in x).astype(int)\n",
    "    for director in top_director_ls\n",
    "})\n",
    "\n",
    "# Find top 30 countries by frequency and create one-hot encoded columns for them\n",
    "all_countries = [country for ls in dataset['countries_origin'] for country in ls]\n",
    "country_counts = Counter(all_countries)\n",
    "top_30 = country_counts.most_common(30)\n",
    "top_countries_ls = [country for country, count in top_30]\n",
    "top_countries = pd.DataFrame({\n",
    "    country: dataset['countries_origin'].map(lambda x: country in x)\n",
    "    for country in top_countries_ls\n",
    "})\n",
    "\n",
    "# Find top 40 production companies by frequency and create one-hot encoded columns for them\n",
    "all_production = [production for ls in dataset['production_company'] for production in ls]\n",
    "production_counts = Counter(all_production)\n",
    "top_40_production = production_counts.most_common(40)\n",
    "top_productions_ls = [production for production, count in top_40_production]\n",
    "top_productions = pd.DataFrame({\n",
    "    prod: dataset['production_company'].map(lambda x: prod in x)\n",
    "    for prod in top_productions_ls\n",
    "})\n",
    "\n",
    "# Find top 25 languages by frequency and create one-hot encoded columns for them\n",
    "all_languages = [language for ls in dataset['Languages'] for language in ls]\n",
    "languages_counts = Counter(all_languages)\n",
    "top_25 = languages_counts.most_common(25)\n",
    "top_languages_ls = [language for language, count in top_25]\n",
    "top_languages = pd.DataFrame({\n",
    "    language: dataset['Languages'].map(lambda x: language in x)\n",
    "    for language in top_languages_ls\n",
    "})\n",
    "\n",
    "# List of numerical features to scale\n",
    "num_features = ['méta_score', 'grossWorldWWide', 'Votes', 'Duration', 'Oscar_nominated', 'Oscar_won', 'Nominations', 'Wins', 'top_actor_count', 'Year']\n",
    "\n",
    "# Split dataset into training and testing sets (80% train, 20% test)\n",
    "train_data, test_data = train_test_split(dataset, test_size=0.2, random_state=42)\n",
    "\n",
    "\"\"\"\n",
    "# Manual standardization example (commented out)\n",
    "mean = train_data[num_features].mean()\n",
    "std = train_data[num_features].std()\n",
    "\n",
    "train_data[num_features] = (train_data[num_features] - mean)/std\n",
    "test_data[num_features] = (test_data[num_features] - mean)/std\n",
    "\n",
    "# Check training data statistics\n",
    "print(\"Train data statistics:\")\n",
    "print(train_data[num_features].mean())\n",
    "print(train_data[num_features].std())\n",
    "\n",
    "# Check testing data statistics\n",
    "print(\"\\nTest data statistics:\")\n",
    "print(test_data[num_features].mean())\n",
    "print(test_data[num_features].std())\n",
    "\"\"\"\n",
    "\n",
    "# Initialize StandardScaler\n",
    "scaler = StandardScaler()\n",
    "\n",
    "# Fit scaler only on training data and transform training numerical features\n",
    "train_data[num_features] = scaler.fit_transform(train_data[num_features])\n",
    "\n",
    "# Apply the same scaler transformation to test data (no fitting)\n",
    "test_data[num_features] = scaler.transform(test_data[num_features])\n",
    "pd.set_option('display.max_columns', None)\n",
    "train_data.dtypes.to_frame(name='dtype').reset_index().rename(columns={'index': 'column'})\n",
    "target_scaler = StandardScaler()\n",
    "train_data['Rating_scaled'] = target_scaler.fit_transform(train_data['Rating'].values.reshape(-1, 1))\n",
    "test_data['Rating_scaled'] = target_scaler.transform(test_data['Rating'].values.reshape(-1, 1))\n"
   ]
  },
  {
   "cell_type": "code",
   "execution_count": 312,
   "id": "ab102ed2-e7dc-4413-ad6a-89dfe37418c9",
   "metadata": {},
   "outputs": [],
   "source": [
    "X_train = train_data.drop(columns=[\n",
    "    'Rating',\n",
    "    'Title', 'writers', 'directors', 'stars',\n",
    "    'countries_origin', 'production_company',\n",
    "    'awards_content', 'genres', 'Languages', 'Rating_scaled'])\n",
    "Y_train = train_data['Rating_scaled']\n",
    "X_test = test_data.drop(columns=['Rating', 'stars', 'countries_origin', 'production_company', 'genres', 'Languages', 'directors', 'writers', 'awards_content', 'Rating_scaled'])\n",
    "Y_test = test_data['Rating_scaled']\n",
    "\n"
   ]
  },
  {
   "cell_type": "code",
   "execution_count": 313,
   "id": "7984f5da-03da-4b8b-9235-79a548f9fc18",
   "metadata": {},
   "outputs": [],
   "source": [
    "model = LinearRegression()"
   ]
  },
  {
   "cell_type": "code",
   "execution_count": 314,
   "id": "39beed1f-2f89-411c-bdc9-2ca1170b9fba",
   "metadata": {},
   "outputs": [
    {
     "data": {
      "text/html": [
       "<style>#sk-container-id-4 {color: black;background-color: white;}#sk-container-id-4 pre{padding: 0;}#sk-container-id-4 div.sk-toggleable {background-color: white;}#sk-container-id-4 label.sk-toggleable__label {cursor: pointer;display: block;width: 100%;margin-bottom: 0;padding: 0.3em;box-sizing: border-box;text-align: center;}#sk-container-id-4 label.sk-toggleable__label-arrow:before {content: \"▸\";float: left;margin-right: 0.25em;color: #696969;}#sk-container-id-4 label.sk-toggleable__label-arrow:hover:before {color: black;}#sk-container-id-4 div.sk-estimator:hover label.sk-toggleable__label-arrow:before {color: black;}#sk-container-id-4 div.sk-toggleable__content {max-height: 0;max-width: 0;overflow: hidden;text-align: left;background-color: #f0f8ff;}#sk-container-id-4 div.sk-toggleable__content pre {margin: 0.2em;color: black;border-radius: 0.25em;background-color: #f0f8ff;}#sk-container-id-4 input.sk-toggleable__control:checked~div.sk-toggleable__content {max-height: 200px;max-width: 100%;overflow: auto;}#sk-container-id-4 input.sk-toggleable__control:checked~label.sk-toggleable__label-arrow:before {content: \"▾\";}#sk-container-id-4 div.sk-estimator input.sk-toggleable__control:checked~label.sk-toggleable__label {background-color: #d4ebff;}#sk-container-id-4 div.sk-label input.sk-toggleable__control:checked~label.sk-toggleable__label {background-color: #d4ebff;}#sk-container-id-4 input.sk-hidden--visually {border: 0;clip: rect(1px 1px 1px 1px);clip: rect(1px, 1px, 1px, 1px);height: 1px;margin: -1px;overflow: hidden;padding: 0;position: absolute;width: 1px;}#sk-container-id-4 div.sk-estimator {font-family: monospace;background-color: #f0f8ff;border: 1px dotted black;border-radius: 0.25em;box-sizing: border-box;margin-bottom: 0.5em;}#sk-container-id-4 div.sk-estimator:hover {background-color: #d4ebff;}#sk-container-id-4 div.sk-parallel-item::after {content: \"\";width: 100%;border-bottom: 1px solid gray;flex-grow: 1;}#sk-container-id-4 div.sk-label:hover label.sk-toggleable__label {background-color: #d4ebff;}#sk-container-id-4 div.sk-serial::before {content: \"\";position: absolute;border-left: 1px solid gray;box-sizing: border-box;top: 0;bottom: 0;left: 50%;z-index: 0;}#sk-container-id-4 div.sk-serial {display: flex;flex-direction: column;align-items: center;background-color: white;padding-right: 0.2em;padding-left: 0.2em;position: relative;}#sk-container-id-4 div.sk-item {position: relative;z-index: 1;}#sk-container-id-4 div.sk-parallel {display: flex;align-items: stretch;justify-content: center;background-color: white;position: relative;}#sk-container-id-4 div.sk-item::before, #sk-container-id-4 div.sk-parallel-item::before {content: \"\";position: absolute;border-left: 1px solid gray;box-sizing: border-box;top: 0;bottom: 0;left: 50%;z-index: -1;}#sk-container-id-4 div.sk-parallel-item {display: flex;flex-direction: column;z-index: 1;position: relative;background-color: white;}#sk-container-id-4 div.sk-parallel-item:first-child::after {align-self: flex-end;width: 50%;}#sk-container-id-4 div.sk-parallel-item:last-child::after {align-self: flex-start;width: 50%;}#sk-container-id-4 div.sk-parallel-item:only-child::after {width: 0;}#sk-container-id-4 div.sk-dashed-wrapped {border: 1px dashed gray;margin: 0 0.4em 0.5em 0.4em;box-sizing: border-box;padding-bottom: 0.4em;background-color: white;}#sk-container-id-4 div.sk-label label {font-family: monospace;font-weight: bold;display: inline-block;line-height: 1.2em;}#sk-container-id-4 div.sk-label-container {text-align: center;}#sk-container-id-4 div.sk-container {/* jupyter's `normalize.less` sets `[hidden] { display: none; }` but bootstrap.min.css set `[hidden] { display: none !important; }` so we also need the `!important` here to be able to override the default hidden behavior on the sphinx rendered scikit-learn.org. See: https://github.com/scikit-learn/scikit-learn/issues/21755 */display: inline-block !important;position: relative;}#sk-container-id-4 div.sk-text-repr-fallback {display: none;}</style><div id=\"sk-container-id-4\" class=\"sk-top-container\"><div class=\"sk-text-repr-fallback\"><pre>LinearRegression()</pre><b>In a Jupyter environment, please rerun this cell to show the HTML representation or trust the notebook. <br />On GitHub, the HTML representation is unable to render, please try loading this page with nbviewer.org.</b></div><div class=\"sk-container\" hidden><div class=\"sk-item\"><div class=\"sk-estimator sk-toggleable\"><input class=\"sk-toggleable__control sk-hidden--visually\" id=\"sk-estimator-id-4\" type=\"checkbox\" checked><label for=\"sk-estimator-id-4\" class=\"sk-toggleable__label sk-toggleable__label-arrow\">LinearRegression</label><div class=\"sk-toggleable__content\"><pre>LinearRegression()</pre></div></div></div></div></div>"
      ],
      "text/plain": [
       "LinearRegression()"
      ]
     },
     "execution_count": 314,
     "metadata": {},
     "output_type": "execute_result"
    }
   ],
   "source": [
    "model.fit(X_train, Y_train)"
   ]
  },
  {
   "cell_type": "code",
   "execution_count": 315,
   "id": "d760b719-3e84-451e-ba5d-5f3f86ae8817",
   "metadata": {},
   "outputs": [
    {
     "name": "stdout",
     "output_type": "stream",
     "text": [
      "Index([], dtype='object')\n",
      "Index(['Title'], dtype='object')\n"
     ]
    }
   ],
   "source": [
    "print(X_train.columns.difference(X_test.columns))  # колонки в X_train, которых нет в X_test\n",
    "print(X_test.columns.difference(X_train.columns))  # колонки в X_test, которых нет в X_train"
   ]
  },
  {
   "cell_type": "code",
   "execution_count": 316,
   "id": "4a9fac55-b953-4793-8b5e-13913f36ba55",
   "metadata": {},
   "outputs": [],
   "source": [
    "X_test = X_test.drop(columns=['Title'])"
   ]
  },
  {
   "cell_type": "code",
   "execution_count": 317,
   "id": "89f22a1e-65a5-46f4-ae87-155ef97ab6de",
   "metadata": {},
   "outputs": [],
   "source": [
    "y_test_pred = model.predict(X_test)\n",
    "y_train_pred = model.predict(X_train)"
   ]
  },
  {
   "cell_type": "code",
   "execution_count": 320,
   "id": "8807b367-beed-4e52-8921-75c112bcd4a9",
   "metadata": {},
   "outputs": [
    {
     "name": "stdout",
     "output_type": "stream",
     "text": [
      "Train RMSE: 0.5502925797764112\n",
      "Train R2: 0.644380375025714\n",
      "Test RMSE: 0.5868709327285373\n",
      "Test R2: 0.5915478226582693\n"
     ]
    }
   ],
   "source": [
    "# Обратно преобразуем предсказания к оригинальному масштабу\n",
    "y_train_pred_orig = target_scaler.inverse_transform(y_train_pred.reshape(-1, 1))\n",
    "y_train_orig = target_scaler.inverse_transform(Y_train.values.reshape(-1, 1))\n",
    "\n",
    "y_test_pred_orig = target_scaler.inverse_transform(y_test_pred.reshape(-1, 1))\n",
    "y_test_orig = target_scaler.inverse_transform(Y_test.values.reshape(-1, 1))\n",
    "\n",
    "# Оценка на тренировочных данных\n",
    "print(\"Train RMSE:\", mean_squared_error(y_train_orig, y_train_pred_orig, squared=False))\n",
    "print(\"Train R2:\", r2_score(y_train_orig, y_train_pred_orig))\n",
    "\n",
    "# Оценка на тестовых данных\n",
    "print(\"Test RMSE:\", mean_squared_error(y_test_orig, y_test_pred_orig, squared=False))\n",
    "print(\"Test R2:\", r2_score(y_test_orig, y_test_pred_orig))"
   ]
  },
  {
   "cell_type": "code",
   "execution_count": 321,
   "id": "dfe49394-0e04-4734-a214-7ccfaa541e46",
   "metadata": {},
   "outputs": [
    {
     "data": {
      "image/png": "[encoded data removed]",
      "text/plain": [
       "<Figure size 800x600 with 1 Axes>"
      ]
     },
     "metadata": {},
     "output_type": "display_data"
    },
    {
     "data": {
      "image/png": "[encoded data removed]",
      "text/plain": [
       "<Figure size 800x600 with 1 Axes>"
      ]
     },
     "metadata": {},
     "output_type": "display_data"
    }
   ],
   "source": [
    "import matplotlib.pyplot as plt\n",
    "import seaborn as sns\n",
    "\n",
    "# Предсказания на тесте\n",
    "y_test_pred = model.predict(X_test)\n",
    "\n",
    "# График: реальные vs предсказанные\n",
    "plt.figure(figsize=(8,6))\n",
    "sns.scatterplot(x=Y_test, y=y_test_pred, alpha=0.5)\n",
    "plt.plot([Y_test.min(), Y_test.max()], [Y_test.min(), Y_test.max()], 'r--')  # диагональ y=x\n",
    "plt.xlabel('Actual Rating')\n",
    "plt.ylabel('Predicted Rating')\n",
    "plt.title('Actual vs Predicted Ratings on Test Set')\n",
    "plt.show()\n",
    "\n",
    "# График остатков\n",
    "residuals = Y_test - y_test_pred\n",
    "plt.figure(figsize=(8,6))\n",
    "sns.histplot(residuals, kde=True)\n",
    "plt.xlabel('Residuals (Actual - Predicted)')\n",
    "plt.title('Residuals Distribution')\n",
    "plt.show()"
   ]
  },
  {
   "cell_type": "code",
   "execution_count": null,
   "id": "99922eec-fb7c-4f49-a45d-fb0b396f8302",
   "metadata": {},
   "outputs": [],
   "source": []
  }
 ],
 "metadata": {
  "kernelspec": {
   "display_name": "Python 3 (ipykernel)",
   "language": "python",
   "name": "python3"
  },
  "language_info": {
   "codemirror_mode": {
    "name": "ipython",
    "version": 3
   },
   "file_extension": ".py",
   "mimetype": "text/x-python",
   "name": "python",
   "nbconvert_exporter": "python",
   "pygments_lexer": "ipython3",
   "version": "3.9.13"
  }
 },
 "nbformat": 4,
 "nbformat_minor": 5
}
